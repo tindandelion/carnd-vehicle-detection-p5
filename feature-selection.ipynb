{
 "cells": [
  {
   "cell_type": "code",
   "execution_count": 1,
   "metadata": {
    "collapsed": true,
    "deletable": true,
    "editable": true
   },
   "outputs": [],
   "source": [
    "import glob\n",
    "import cv2\n",
    "import os.path as path\n",
    "import numpy as np\n",
    "\n",
    "import matplotlib.pyplot as plt\n",
    "import matplotlib.image as mpimg\n",
    "\n",
    "from common import *\n",
    "\n",
    "%matplotlib inline\n"
   ]
  },
  {
   "cell_type": "code",
   "execution_count": 2,
   "metadata": {
    "collapsed": true,
    "deletable": true,
    "editable": true
   },
   "outputs": [],
   "source": [
    "def extract_features(imgs, color_space='RGB', spatial_size=(32, 32),\n",
    "                        hist_bins=32, orient=9, \n",
    "                        pix_per_cell=8, cell_per_block=2, hog_channel=0,\n",
    "                        spatial_feat=True, hist_feat=True, hog_feat=True):\n",
    "    features = []\n",
    "    \n",
    "    for image in imgs:\n",
    "        file_features = []\n",
    "        feature_image = convert_colorspace(image, color_space)\n",
    "        \n",
    "        if spatial_feat == True:\n",
    "            spatial_features = bin_spatial(feature_image, size=spatial_size)\n",
    "            file_features.append(spatial_features)\n",
    "        if hist_feat == True:\n",
    "            hist_features = color_hist(feature_image, nbins=hist_bins)\n",
    "            file_features.append(hist_features)\n",
    "        if hog_feat == True:\n",
    "            if hog_channel == 'ALL':\n",
    "                hog_features = []\n",
    "                for channel in range(feature_image.shape[2]):\n",
    "                    hog_features.append(get_hog_features(feature_image[:,:,channel], \n",
    "                                        orient, pix_per_cell, cell_per_block, \n",
    "                                        vis=False, feature_vec=True))\n",
    "                hog_features = np.ravel(hog_features)        \n",
    "            else:\n",
    "                hog_features = get_hog_features(feature_image[:,:,hog_channel], orient, \n",
    "                            pix_per_cell, cell_per_block, vis=False, feature_vec=True)\n",
    "                \n",
    "            file_features.append(hog_features)\n",
    "        features.append(np.concatenate(file_features))\n",
    "    return features\n",
    "\n",
    "\n",
    "def read_dataset(data_path):\n",
    "    pattern = '**/*.png'\n",
    "    files  = glob.glob(path.join(data_path, pattern))\n",
    "    return [read_image(fn) for fn in files]\n",
    "\n"
   ]
  },
  {
   "cell_type": "markdown",
   "metadata": {
    "deletable": true,
    "editable": true
   },
   "source": [
    "# Preparing the dataset"
   ]
  },
  {
   "cell_type": "code",
   "execution_count": 3,
   "metadata": {
    "collapsed": true,
    "deletable": true,
    "editable": true
   },
   "outputs": [],
   "source": [
    "from sklearn.model_selection import train_test_split\n",
    "from sklearn.utils import shuffle"
   ]
  },
  {
   "cell_type": "code",
   "execution_count": 4,
   "metadata": {
    "collapsed": false,
    "deletable": true,
    "editable": true
   },
   "outputs": [
    {
     "name": "stdout",
     "output_type": "stream",
     "text": [
      "Cars dataset size:  8792\n",
      "Non-cars dataset size:  8968\n"
     ]
    }
   ],
   "source": [
    "cars = read_dataset('./data/vehicles')\n",
    "non_cars = read_dataset('./data/non-vehicles')\n",
    "\n",
    "print(\"Cars dataset size: \", len(cars))\n",
    "print(\"Non-cars dataset size: \", len(non_cars))"
   ]
  },
  {
   "cell_type": "code",
   "execution_count": 5,
   "metadata": {
    "collapsed": true,
    "deletable": true,
    "editable": true
   },
   "outputs": [],
   "source": [
    "X = np.concatenate((cars, non_cars))\n",
    "y = np.concatenate([np.ones(len(cars)), np.zeros(len(non_cars))])"
   ]
  },
  {
   "cell_type": "code",
   "execution_count": 6,
   "metadata": {
    "collapsed": false,
    "deletable": true,
    "editable": true
   },
   "outputs": [
    {
     "name": "stdout",
     "output_type": "stream",
     "text": [
      "Samples in training dataset:  14208\n",
      "Samples in test dataset:  3552\n"
     ]
    }
   ],
   "source": [
    "X_train, X_test, y_train, y_test = train_test_split(X, y, test_size=0.2, random_state=0)\n",
    "\n",
    "print(\"Samples in training dataset: \", len(X_train))\n",
    "print(\"Samples in test dataset: \", len(X_test))\n"
   ]
  },
  {
   "cell_type": "markdown",
   "metadata": {
    "deletable": true,
    "editable": true
   },
   "source": [
    "# Train SVM classifier"
   ]
  },
  {
   "cell_type": "code",
   "execution_count": 7,
   "metadata": {
    "collapsed": false,
    "deletable": true,
    "editable": true
   },
   "outputs": [
    {
     "data": {
      "text/plain": [
       "RandomizedSearchCV(cv=ShuffleSplit(n_splits=1, random_state=None, test_size=0.2, train_size=None),\n",
       "          error_score='raise',\n",
       "          estimator=Pipeline(steps=[('features', <__main__.FeatureExtractor object at 0x11ada0588>), ('scaler', StandardScaler(copy=True, with_mean=True, with_std=True)), ('svc', LinearSVC(C=1.0, class_weight=None, dual=True, fit_intercept=True,\n",
       "     intercept_scaling=1, loss='squared_hinge', max_iter=1000,\n",
       "     multi_class='ovr', penalty='l2', random_state=None, tol=0.0001,\n",
       "     verbose=0))]),\n",
       "          fit_params={}, iid=True, n_iter=20, n_jobs=1,\n",
       "          param_distributions={'features__orient': [7, 9, 11], 'features__color_space': ['RGB', 'HLS', 'YUV', 'YCrCb'], 'features__hog_channel': ['ALL'], 'features__hist_bins': [0, 2, 4, 8, 16, 32, 64], 'features__pix_per_cell': [8], 'svc__C': [0.0001, 0.001, 0.01, 1, 10], 'features__cell_per_block': [1, 2, 4], 'features__spatial_size': [0, 4, 8, 16, 32]},\n",
       "          pre_dispatch='2*n_jobs', random_state=None, refit=True,\n",
       "          return_train_score=True, scoring=None, verbose=0)"
      ]
     },
     "execution_count": 7,
     "metadata": {},
     "output_type": "execute_result"
    }
   ],
   "source": [
    "from sklearn.model_selection import GridSearchCV, ShuffleSplit, RandomizedSearchCV\n",
    "from sklearn.preprocessing import StandardScaler\n",
    "from sklearn.pipeline import Pipeline\n",
    "from sklearn.svm import LinearSVC\n",
    "\n",
    "class FeatureExtractor:\n",
    "    def __init__(self, **params):\n",
    "        self.params = params\n",
    "        \n",
    "    def fit(self, X, y):\n",
    "        return self\n",
    "    \n",
    "    def transform(self, X):\n",
    "        return extract_features(X, \n",
    "                                color_space=self.params['color_space'], \n",
    "                                hog_channel=self.params['hog_channel'],\n",
    "                                orient=self.params['orient'],\n",
    "                                pix_per_cell = self.params['pix_per_cell'],\n",
    "                                cell_per_block = self.params['cell_per_block'],\n",
    "                                spatial_feat=self.params['spatial_size'] > 0, \n",
    "                                spatial_size=(self.params['spatial_size'], self.params['spatial_size']),\n",
    "                                hist_bins=(self.params['hist_bins']),\n",
    "                                hist_feat=self.params['hist_bins'] > 0)\n",
    "    \n",
    "    def get_params(self, deep=False):\n",
    "        return self.params\n",
    "    \n",
    "    def set_params(self, **params):\n",
    "        self.params.update(params)\n",
    "        \n",
    "classifier = Pipeline([('features', FeatureExtractor()),\n",
    "                       ('scaler', StandardScaler()),\n",
    "                       ('svc', LinearSVC())])\n",
    "\n",
    "param_grid = {\n",
    "    'features__color_space': ['RGB', 'HLS','YUV', 'YCrCb'],\n",
    "    'features__hog_channel': ['ALL'],\n",
    "    'features__orient': [7, 9, 11],\n",
    "    'features__hist_bins': [0, 2, 4, 8, 16, 32, 64],\n",
    "    'features__spatial_size': [0, 4, 8, 16, 32],\n",
    "    'features__pix_per_cell': [8],\n",
    "    'features__cell_per_block': [1, 2, 4],\n",
    "    'svc__C': [0.0001, 0.001, 0.01, 1, 10]\n",
    "}\n",
    "\n",
    "search = RandomizedSearchCV(classifier, param_grid, \n",
    "                            cv=ShuffleSplit(test_size=0.2, n_splits=1),\n",
    "                            n_iter=20)\n",
    "search.fit(X_train, y_train)"
   ]
  },
  {
   "cell_type": "code",
   "execution_count": 8,
   "metadata": {
    "collapsed": false,
    "deletable": true,
    "editable": true
   },
   "outputs": [],
   "source": [
    "import pandas as pd\n",
    "results = pd.DataFrame(search.cv_results_)\n",
    "results.sort_values(by='rank_test_score', inplace=True)\n",
    "results.to_csv('./output_model/gridsearch_result.csv')"
   ]
  },
  {
   "cell_type": "code",
   "execution_count": 9,
   "metadata": {
    "collapsed": false,
    "deletable": true,
    "editable": true
   },
   "outputs": [
    {
     "data": {
      "text/plain": [
       "{'features__cell_per_block': 2,\n",
       " 'features__color_space': 'YUV',\n",
       " 'features__hist_bins': 32,\n",
       " 'features__hog_channel': 'ALL',\n",
       " 'features__orient': 11,\n",
       " 'features__pix_per_cell': 8,\n",
       " 'features__spatial_size': 32,\n",
       " 'svc__C': 0.01}"
      ]
     },
     "execution_count": 9,
     "metadata": {},
     "output_type": "execute_result"
    }
   ],
   "source": [
    "search.best_params_"
   ]
  },
  {
   "cell_type": "code",
   "execution_count": 10,
   "metadata": {
    "collapsed": false,
    "deletable": true,
    "editable": true
   },
   "outputs": [],
   "source": [
    "final_classifier = search.best_estimator_"
   ]
  },
  {
   "cell_type": "code",
   "execution_count": 11,
   "metadata": {
    "collapsed": false,
    "deletable": true,
    "editable": true
   },
   "outputs": [
    {
     "name": "stdout",
     "output_type": "stream",
     "text": [
      "             precision    recall  f1-score   support\n",
      "\n",
      "   Non-cars       0.99      1.00      1.00      1829\n",
      "       Cars       1.00      0.99      0.99      1723\n",
      "\n",
      "avg / total       0.99      0.99      0.99      3552\n",
      "\n",
      "Confusion matrix: \n",
      "[[1821    8]\n",
      " [  10 1713]]\n",
      "Final classifier score: 0.9949\n"
     ]
    }
   ],
   "source": [
    "from sklearn.metrics import classification_report\n",
    "from sklearn.metrics import confusion_matrix\n",
    "from sklearn.metrics import accuracy_score\n",
    "\n",
    "y_pred = final_classifier.predict(X_test)\n",
    "print(classification_report(y_test, y_pred, target_names=['Non-cars', 'Cars']))\n",
    "print(\"Confusion matrix: \")\n",
    "print(confusion_matrix(y_test, y_pred))\n",
    "print(\"Final classifier score: %.4f\" % accuracy_score(y_test, y_pred))\n"
   ]
  },
  {
   "cell_type": "markdown",
   "metadata": {
    "deletable": true,
    "editable": true
   },
   "source": [
    "# Save classifier and parameters"
   ]
  },
  {
   "cell_type": "code",
   "execution_count": 12,
   "metadata": {
    "collapsed": false,
    "deletable": true,
    "editable": true
   },
   "outputs": [
    {
     "data": {
      "text/plain": [
       "['./output_model/model.pkl']"
      ]
     },
     "execution_count": 12,
     "metadata": {},
     "output_type": "execute_result"
    }
   ],
   "source": [
    "from sklearn.externals import joblib\n",
    "\n",
    "feature_params = final_classifier.named_steps['features'].params\n",
    "raw_classifier = Pipeline(final_classifier.steps[1:])\n",
    "\n",
    "data = {\n",
    "    'feature_params': feature_params,\n",
    "    'classifier': raw_classifier\n",
    "}\n",
    "\n",
    "joblib.dump(data, './output_model/model.pkl')"
   ]
  },
  {
   "cell_type": "code",
   "execution_count": null,
   "metadata": {
    "collapsed": true
   },
   "outputs": [],
   "source": []
  }
 ],
 "metadata": {
  "kernelspec": {
   "display_name": "Python 3",
   "language": "python",
   "name": "python3"
  },
  "language_info": {
   "codemirror_mode": {
    "name": "ipython",
    "version": 3
   },
   "file_extension": ".py",
   "mimetype": "text/x-python",
   "name": "python",
   "nbconvert_exporter": "python",
   "pygments_lexer": "ipython3",
   "version": "3.5.2"
  }
 },
 "nbformat": 4,
 "nbformat_minor": 2
}
